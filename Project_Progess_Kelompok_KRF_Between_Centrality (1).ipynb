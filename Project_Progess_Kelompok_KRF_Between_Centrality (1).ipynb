{
  "nbformat": 4,
  "nbformat_minor": 0,
  "metadata": {
    "colab": {
      "name": "Project Progess_Kelompok KRF_Between Centrality.ipynb",
      "provenance": [],
      "collapsed_sections": [],
      "toc_visible": true
    },
    "kernelspec": {
      "name": "python3",
      "display_name": "Python 3"
    }
  },
  "cells": [
    {
      "cell_type": "markdown",
      "metadata": {
        "id": "teGD9rnf7ZeA"
      },
      "source": [
        "## Import Library"
      ]
    },
    {
      "cell_type": "code",
      "metadata": {
        "id": "2yu6SPn_7GTD"
      },
      "source": [
        "import os\n",
        "import csv\n",
        "import json\n",
        "import tweepy as  tw\n",
        "import pandas as pd\n",
        "import networkx as nx\n",
        "import matplotlib.pyplot as plt"
      ],
      "execution_count": null,
      "outputs": []
    },
    {
      "cell_type": "markdown",
      "metadata": {
        "id": "ccgbFom27eIR"
      },
      "source": [
        "## API Key and Authentikasi"
      ]
    },
    {
      "cell_type": "code",
      "metadata": {
        "id": "rdn9nKVk7nY0"
      },
      "source": [
        "consumer_key= '4jYQS823JkMpEfeR8Uxdmwmbj'\n",
        "consumer_secret= 'deqhnK4iyYXJnyH7JS00BVtezL9DtWoY6l7DyPTPC7l458l0Al'\n",
        "access_token= '1368541732539801600-e2qKx290ivr6gRS08FfpZdseK0v68R'\n",
        "access_token_secret= 'KBKfVymxTfro49IG1jyXMXyF2yTsLffHjFJ8CNc6Jb9ZW'"
      ],
      "execution_count": null,
      "outputs": []
    },
    {
      "cell_type": "code",
      "metadata": {
        "id": "3-myLnXU8wSD"
      },
      "source": [
        "auth = tw.OAuthHandler(consumer_key, consumer_secret)\n",
        "auth.set_access_token(access_token, access_token_secret)\n",
        "api = tw.API(auth, wait_on_rate_limit=True)"
      ],
      "execution_count": null,
      "outputs": []
    },
    {
      "cell_type": "markdown",
      "metadata": {
        "id": "pJd85A497sLW"
      },
      "source": [
        "## Crawling Data Twitter"
      ]
    },
    {
      "cell_type": "code",
      "metadata": {
        "id": "FHq6A8jW7u16"
      },
      "source": [
        "# Define the search term and the date_since date as variables\n",
        "search_words = \"vaksin\"\n",
        "#new_search = search_words + \" -filter:retweets\"\n",
        "#new_search"
      ],
      "execution_count": null,
      "outputs": []
    },
    {
      "cell_type": "code",
      "metadata": {
        "id": "q4_cwgCg8ej9",
        "colab": {
          "base_uri": "https://localhost:8080/",
          "height": 675
        },
        "outputId": "0fac4d23-b6ac-48b1-e7db-69514fc3ab12"
      },
      "source": [
        "# Collect tweets\n",
        "tweets = tw.Cursor(api.search,\n",
        "              q=search_words,\n",
        "              lang=\"in\").items(100)\n",
        "\n",
        "#for tweet in tweets :\n",
        "  #print(tweet.text)\n",
        "\n",
        "users_locs = [[tweet.user.screen_name, tweet.in_reply_to_screen_name] for tweet in tweets]\n",
        "tweet_text1 = pd.DataFrame(data=users_locs, \n",
        "                           columns=['Username', \"User Mentions\"])\n",
        "tweet_text1 = tweet_text1.dropna()\n",
        "tweet_text1.head(50)"
      ],
      "execution_count": null,
      "outputs": [
        {
          "output_type": "execute_result",
          "data": {
            "text/html": [
              "<div>\n",
              "<style scoped>\n",
              "    .dataframe tbody tr th:only-of-type {\n",
              "        vertical-align: middle;\n",
              "    }\n",
              "\n",
              "    .dataframe tbody tr th {\n",
              "        vertical-align: top;\n",
              "    }\n",
              "\n",
              "    .dataframe thead th {\n",
              "        text-align: right;\n",
              "    }\n",
              "</style>\n",
              "<table border=\"1\" class=\"dataframe\">\n",
              "  <thead>\n",
              "    <tr style=\"text-align: right;\">\n",
              "      <th></th>\n",
              "      <th>Username</th>\n",
              "      <th>User Mentions</th>\n",
              "    </tr>\n",
              "  </thead>\n",
              "  <tbody>\n",
              "    <tr>\n",
              "      <th>4</th>\n",
              "      <td>Abimanyu_well</td>\n",
              "      <td>JogjaUpdate</td>\n",
              "    </tr>\n",
              "    <tr>\n",
              "      <th>9</th>\n",
              "      <td>Abimanyu_well</td>\n",
              "      <td>125pantaijogja</td>\n",
              "    </tr>\n",
              "    <tr>\n",
              "      <th>15</th>\n",
              "      <td>Abimanyu_well</td>\n",
              "      <td>DIY</td>\n",
              "    </tr>\n",
              "    <tr>\n",
              "      <th>18</th>\n",
              "      <td>Abimanyu_well</td>\n",
              "      <td>NU_Jogja</td>\n",
              "    </tr>\n",
              "    <tr>\n",
              "      <th>31</th>\n",
              "      <td>Abimanyu_well</td>\n",
              "      <td>dishubdiy</td>\n",
              "    </tr>\n",
              "    <tr>\n",
              "      <th>36</th>\n",
              "      <td>Abimanyu_well</td>\n",
              "      <td>ombudsmanjogja</td>\n",
              "    </tr>\n",
              "    <tr>\n",
              "      <th>40</th>\n",
              "      <td>adjisdoaibu</td>\n",
              "      <td>yunsky20</td>\n",
              "    </tr>\n",
              "    <tr>\n",
              "      <th>44</th>\n",
              "      <td>Abimanyu_well</td>\n",
              "      <td>humas_jogja</td>\n",
              "    </tr>\n",
              "    <tr>\n",
              "      <th>50</th>\n",
              "      <td>beMySakura</td>\n",
              "      <td>beMySakura</td>\n",
              "    </tr>\n",
              "    <tr>\n",
              "      <th>52</th>\n",
              "      <td>Abimanyu_well</td>\n",
              "      <td>kominfodiy</td>\n",
              "    </tr>\n",
              "    <tr>\n",
              "      <th>54</th>\n",
              "      <td>paraNEWnormal</td>\n",
              "      <td>Tri12Anggara</td>\n",
              "    </tr>\n",
              "    <tr>\n",
              "      <th>57</th>\n",
              "      <td>Abimanyu_well</td>\n",
              "      <td>poskopmidiy</td>\n",
              "    </tr>\n",
              "    <tr>\n",
              "      <th>60</th>\n",
              "      <td>HalodocID</td>\n",
              "      <td>putciput</td>\n",
              "    </tr>\n",
              "    <tr>\n",
              "      <th>64</th>\n",
              "      <td>LaPorKo</td>\n",
              "      <td>Dean24924388</td>\n",
              "    </tr>\n",
              "    <tr>\n",
              "      <th>66</th>\n",
              "      <td>thewindNcloud</td>\n",
              "      <td>eLFathir_</td>\n",
              "    </tr>\n",
              "    <tr>\n",
              "      <th>73</th>\n",
              "      <td>Elina_Vay</td>\n",
              "      <td>BukanGatutKaca</td>\n",
              "    </tr>\n",
              "    <tr>\n",
              "      <th>75</th>\n",
              "      <td>davidstmpl</td>\n",
              "      <td>ayupurwatie</td>\n",
              "    </tr>\n",
              "    <tr>\n",
              "      <th>77</th>\n",
              "      <td>davidstmpl</td>\n",
              "      <td>gnsrrrr</td>\n",
              "    </tr>\n",
              "    <tr>\n",
              "      <th>79</th>\n",
              "      <td>BagusJapah</td>\n",
              "      <td>Namaku_Mei</td>\n",
              "    </tr>\n",
              "    <tr>\n",
              "      <th>90</th>\n",
              "      <td>AndryDevry</td>\n",
              "      <td>andyprima</td>\n",
              "    </tr>\n",
              "    <tr>\n",
              "      <th>97</th>\n",
              "      <td>auliachery</td>\n",
              "      <td>dewisuprobo</td>\n",
              "    </tr>\n",
              "  </tbody>\n",
              "</table>\n",
              "</div>"
            ],
            "text/plain": [
              "         Username   User Mentions\n",
              "4   Abimanyu_well     JogjaUpdate\n",
              "9   Abimanyu_well  125pantaijogja\n",
              "15  Abimanyu_well             DIY\n",
              "18  Abimanyu_well        NU_Jogja\n",
              "31  Abimanyu_well       dishubdiy\n",
              "36  Abimanyu_well  ombudsmanjogja\n",
              "40    adjisdoaibu        yunsky20\n",
              "44  Abimanyu_well     humas_jogja\n",
              "50     beMySakura      beMySakura\n",
              "52  Abimanyu_well      kominfodiy\n",
              "54  paraNEWnormal    Tri12Anggara\n",
              "57  Abimanyu_well     poskopmidiy\n",
              "60      HalodocID        putciput\n",
              "64        LaPorKo    Dean24924388\n",
              "66  thewindNcloud       eLFathir_\n",
              "73      Elina_Vay  BukanGatutKaca\n",
              "75     davidstmpl     ayupurwatie\n",
              "77     davidstmpl         gnsrrrr\n",
              "79     BagusJapah      Namaku_Mei\n",
              "90     AndryDevry       andyprima\n",
              "97     auliachery     dewisuprobo"
            ]
          },
          "metadata": {
            "tags": []
          },
          "execution_count": 177
        }
      ]
    },
    {
      "cell_type": "markdown",
      "metadata": {
        "id": "QVZvLN_dCr3-"
      },
      "source": [
        "## Visualisasi Graph"
      ]
    },
    {
      "cell_type": "code",
      "metadata": {
        "id": "vCUJ4OePVak_"
      },
      "source": [
        "G_symmetric = nx.Graph()\n",
        "G_symmetric.add_edge('Abimanyu_well','JogjaUpdate')\n",
        "G_symmetric.add_edge('Abimanyu_well','125pantaiJogja')\n",
        "G_symmetric.add_edge('Abimanyu_well','DIY')\n",
        "G_symmetric.add_edge('Abimanyu_well','NU_Jogja')\n",
        "G_symmetric.add_edge('Abimanyu_well','dishubdiy')\n",
        "G_symmetric.add_edge('Abimanyu_well','ombudsmanjogja')\n",
        "G_symmetric.add_edge('adjisdoaibu','yunsky20')\n",
        "G_symmetric.add_edge('Abimanyu_well','humas_jogja')\n",
        "G_symmetric.add_edge('beMySakura','beMySakura')\n",
        "G_symmetric.add_edge('paraNEWnormal','kominfodiy')\n",
        "G_symmetric.add_edge('Abimanyu_well','kominfodiy')\n",
        "G_symmetric.add_edge('HalodocID','putciput')\n",
        "G_symmetric.add_edge('LaPorko','Dean24924388')\n",
        "G_symmetric.add_edge('thewindNcloud','eLFathir_')\n",
        "G_symmetric.add_edge('Elina_Vay','BukanGatutKaca')\n",
        "G_symmetric.add_edge('davidstmpl','ayupurwatie')\n",
        "G_symmetric.add_edge('davidstmpl','gnsrrrr')\n",
        "G_symmetric.add_edge('BagusJapah','Namaku_Mei')\n",
        "G_symmetric.add_edge('AndryDevry','andyprima')\n",
        "G_symmetric.add_edge('auliachery','dewisuprobo')"
      ],
      "execution_count": null,
      "outputs": []
    },
    {
      "cell_type": "code",
      "metadata": {
        "colab": {
          "base_uri": "https://localhost:8080/",
          "height": 248
        },
        "id": "aRixsJJgu9P1",
        "outputId": "4688bff0-d4db-4dd1-dd89-0ec58a7d98ed"
      },
      "source": [
        "nx.draw_networkx(G_symmetric)"
      ],
      "execution_count": null,
      "outputs": [
        {
          "output_type": "display_data",
          "data": {
            "image/png": "[encoded data removed]",
            "text/plain": [
              "<Figure size 432x288 with 1 Axes>"
            ]
          },
          "metadata": {
            "tags": []
          }
        }
      ]
    },
    {
      "cell_type": "markdown",
      "metadata": {
        "id": "bLU8ifGR6C2K"
      },
      "source": [
        "## Clustering Coefficient"
      ]
    },
    {
      "cell_type": "code",
      "metadata": {
        "colab": {
          "base_uri": "https://localhost:8080/"
        },
        "id": "OeL_wa1G6Gnw",
        "outputId": "61436c00-aa32-44bb-e5f9-288d87e4c15a"
      },
      "source": [
        "nx.clustering(G_symmetric)"
      ],
      "execution_count": null,
      "outputs": [
        {
          "output_type": "execute_result",
          "data": {
            "text/plain": [
              "{'125pantaiJogja': 0,\n",
              " 'Abimanyu_well': 0,\n",
              " 'AndryDevry': 0,\n",
              " 'BagusJapah': 0,\n",
              " 'BukanGatutKaca': 0,\n",
              " 'DIY': 0,\n",
              " 'Dean24924388': 0,\n",
              " 'Elina_Vay': 0,\n",
              " 'HalodocID': 0,\n",
              " 'JogjaUpdate': 0,\n",
              " 'LaPorko': 0,\n",
              " 'NU_Jogja': 0,\n",
              " 'Namaku_Mei': 0,\n",
              " 'adjisdoaibu': 0,\n",
              " 'andyprima': 0,\n",
              " 'auliachery': 0,\n",
              " 'ayupurwatie': 0,\n",
              " 'beMySakura': 0,\n",
              " 'davidstmpl': 0,\n",
              " 'dewisuprobo': 0,\n",
              " 'dishubdiy': 0,\n",
              " 'eLFathir_': 0,\n",
              " 'gnsrrrr': 0,\n",
              " 'humas_jogja': 0,\n",
              " 'kominfodiy': 0,\n",
              " 'ombudsmanjogja': 0,\n",
              " 'paraNEWnormal': 0,\n",
              " 'putciput': 0,\n",
              " 'thewindNcloud': 0,\n",
              " 'yunsky20': 0}"
            ]
          },
          "metadata": {
            "tags": []
          },
          "execution_count": 184
        }
      ]
    },
    {
      "cell_type": "code",
      "metadata": {
        "colab": {
          "base_uri": "https://localhost:8080/"
        },
        "id": "7Jxm-Bum6Xyy",
        "outputId": "e91b224d-7e79-4fd3-b555-72ef65a38c8c"
      },
      "source": [
        "nx.average_clustering(G_symmetric)"
      ],
      "execution_count": null,
      "outputs": [
        {
          "output_type": "execute_result",
          "data": {
            "text/plain": [
              "0.0"
            ]
          },
          "metadata": {
            "tags": []
          },
          "execution_count": 181
        }
      ]
    },
    {
      "cell_type": "markdown",
      "metadata": {
        "id": "IEGjNf8o6rwB"
      },
      "source": [
        "## Degree"
      ]
    },
    {
      "cell_type": "code",
      "metadata": {
        "colab": {
          "base_uri": "https://localhost:8080/"
        },
        "id": "SXC366W47tuk",
        "outputId": "2601a3d0-3e18-4395-f676-25e0d690ff7e"
      },
      "source": [
        "nx.degree(G_symmetric)"
      ],
      "execution_count": null,
      "outputs": [
        {
          "output_type": "execute_result",
          "data": {
            "text/plain": [
              "DegreeView({'Abimanyu_well': 8, 'JogjaUpdate': 1, '125pantaiJogja': 1, 'DIY': 1, 'NU_Jogja': 1, 'dishubdiy': 1, 'ombudsmanjogja': 1, 'adjisdoaibu': 1, 'yunsky20': 1, 'humas_jogja': 1, 'beMySakura': 2, 'paraNEWnormal': 1, 'kominfodiy': 2, 'HalodocID': 1, 'putciput': 1, 'LaPorko': 1, 'Dean24924388': 1, 'thewindNcloud': 1, 'eLFathir_': 1, 'Elina_Vay': 1, 'BukanGatutKaca': 1, 'davidstmpl': 2, 'ayupurwatie': 1, 'gnsrrrr': 1, 'BagusJapah': 1, 'Namaku_Mei': 1, 'AndryDevry': 1, 'andyprima': 1, 'auliachery': 1, 'dewisuprobo': 1})"
            ]
          },
          "metadata": {
            "tags": []
          },
          "execution_count": 182
        }
      ]
    },
    {
      "cell_type": "markdown",
      "metadata": {
        "id": "B4d8gDjdAeVB"
      },
      "source": [
        "## Centrality measures memakai Degree Centrality"
      ]
    },
    {
      "cell_type": "code",
      "metadata": {
        "id": "f4ABWIoGBgPJ"
      },
      "source": [
        "#nx.degree_centrality(G_symmetric)"
      ],
      "execution_count": null,
      "outputs": []
    },
    {
      "cell_type": "markdown",
      "metadata": {
        "id": "Zx-SC-VkBgwP"
      },
      "source": [
        "## Centrality measures memakai Closeness Centrality"
      ]
    },
    {
      "cell_type": "code",
      "metadata": {
        "id": "LS7X5jUqBiab"
      },
      "source": [
        "#nx.closeness_centrality(G_symmetric)"
      ],
      "execution_count": null,
      "outputs": []
    },
    {
      "cell_type": "markdown",
      "metadata": {
        "id": "MWG-9ZqHCQHG"
      },
      "source": [
        "## Centrality measures memakai Between Centrality"
      ]
    },
    {
      "cell_type": "code",
      "metadata": {
        "colab": {
          "base_uri": "https://localhost:8080/"
        },
        "id": "wY2Utj2KCPjm",
        "outputId": "4ae8c355-4f73-4939-fd12-8b3b536ec1cf"
      },
      "source": [
        "nx.betweenness_centrality(G_symmetric)"
      ],
      "execution_count": null,
      "outputs": [
        {
          "output_type": "execute_result",
          "data": {
            "text/plain": [
              "{'125pantaiJogja': 0.0,\n",
              " 'Abimanyu_well': 0.08620689655172414,\n",
              " 'AndryDevry': 0.0,\n",
              " 'BagusJapah': 0.0,\n",
              " 'BukanGatutKaca': 0.0,\n",
              " 'DIY': 0.0,\n",
              " 'Dean24924388': 0.0,\n",
              " 'Elina_Vay': 0.0,\n",
              " 'HalodocID': 0.0,\n",
              " 'JogjaUpdate': 0.0,\n",
              " 'LaPorko': 0.0,\n",
              " 'NU_Jogja': 0.0,\n",
              " 'Namaku_Mei': 0.0,\n",
              " 'adjisdoaibu': 0.0,\n",
              " 'andyprima': 0.0,\n",
              " 'auliachery': 0.0,\n",
              " 'ayupurwatie': 0.0,\n",
              " 'beMySakura': 0.0,\n",
              " 'davidstmpl': 0.0024630541871921183,\n",
              " 'dewisuprobo': 0.0,\n",
              " 'dishubdiy': 0.0,\n",
              " 'eLFathir_': 0.0,\n",
              " 'gnsrrrr': 0.0,\n",
              " 'humas_jogja': 0.0,\n",
              " 'kominfodiy': 0.019704433497536946,\n",
              " 'ombudsmanjogja': 0.0,\n",
              " 'paraNEWnormal': 0.0,\n",
              " 'putciput': 0.0,\n",
              " 'thewindNcloud': 0.0,\n",
              " 'yunsky20': 0.0}"
            ]
          },
          "metadata": {
            "tags": []
          },
          "execution_count": 188
        }
      ]
    }
  ]
}